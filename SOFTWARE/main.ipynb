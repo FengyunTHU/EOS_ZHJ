{
 "cells": [
  {
   "cell_type": "code",
   "execution_count": 319,
   "metadata": {},
   "outputs": [],
   "source": [
    "import importlib\n",
    "import numpy as np\n",
    "import matplotlib.pyplot as plt\n",
    "from math import *\n",
    "def dynamic_import(module_name, function_name):\n",
    "\tmodule = importlib.import_module(module_name)\n",
    "\tfunction = getattr(module, function_name)\n",
    "\treturn function\n",
    "calculatePHI_LIQUID_NONESRK = dynamic_import('calculate', 'calculatePHI_LIQUID_NONESRK')\n",
    "calculatePHI_VAPOR_SRK = dynamic_import('calculate', 'calculatePHI_VAPOR_SRK')\n",
    "read_excel = dynamic_import('read', 'read_excel')\n",
    "getTHETA = dynamic_import('read', 'getTHETA')\n",
    "predict_THETA = dynamic_import('calcute_theta', 'predict_THETA')"
   ]
  },
  {
   "cell_type": "code",
   "execution_count": 320,
   "metadata": {},
   "outputs": [],
   "source": [
    "features = [\n",
    "    'Tr', 'Pr', 'LIQUID PL', 'LIQUID K', 'LIQUID MU', 'LIQUID SIGMA',\n",
    "    'TOTAL RHO', 'LIQUID DHVL', 'M', 'Tc', 'Pc',\n",
    "    'FREEZEPT', 'TB', 'omiga'\n",
    "]"
   ]
  },
  {
   "cell_type": "code",
   "execution_count": 321,
   "metadata": {},
   "outputs": [
    {
     "name": "stdout",
     "output_type": "stream",
     "text": [
      "[233.88, -18507.0, 0, 0, -30.353, 1.3073e-05, 2, 286.65, 708.0]\n",
      "[128.169, 708.0, 3620000, 0.41, 0.252, 286.65, 501.15, 0.614415, nan, 233.88, -18507.0, 0, 0, -30.353, 1.3073e-05, 2, 286.65, 708.0, nan, 0.21964, -0.00022404, 0, 0, 0, 286.65, 501.15, nan, -12.346, 2046.0, -0.00023475, 0, 0, 286.65, 501.15, nan, 0.067016, 1.2402, 0.0, 0, 0, 286.65, 708.0, nan, 0.61496, 0.25215, 708.0, 0.28571, 0, 286.65, 708.0, nan, 149510000, 1.1546, 0.083403, -0.72697, 0, 286.65, 708.0]\n"
     ]
    }
   ],
   "source": [
    "pres = read_excel('./DATA/物性系数.xlsx',0,1)\n",
    "# we test 110-62-3\n",
    "ct = list(pres.keys())\n",
    "ik = 6 # 1,2,3,4,5,6\n",
    "dff = {1:0,\n",
    "\t   2:1,\n",
    "\t   3:5,\n",
    "\t   4:2,\n",
    "\t   5:4,\n",
    "\t   6:3}\n",
    "TEST_LIST = pres[ct[ik]]\n",
    "SATlist = TEST_LIST[9:18] # 计算饱和蒸气压经验公式系数\n",
    "print(SATlist)\n",
    "print(TEST_LIST)"
   ]
  },
  {
   "cell_type": "code",
   "execution_count": 322,
   "metadata": {},
   "outputs": [
    {
     "name": "stdout",
     "output_type": "stream",
     "text": [
      "3\n",
      "[np.float64(0.8375858202352884), np.float64(0.8379635277554884), np.float64(0.8383379082521911), np.float64(0.838709012257133), np.float64(0.8390768891695808), np.float64(0.8394415872903324), np.float64(0.8438895605834092), np.float64(0.8443755343799656), np.float64(0.8448566894742173), np.float64(0.8453331097240404), np.float64(0.845804876815772), np.float64(0.8462720703397861), np.float64(0.849611513178963), np.float64(0.8502382656751551), np.float64(0.8508579606716627), np.float64(0.8514707402919557), np.float64(0.852076742366704), np.float64(0.8526761006084224), np.float64(0.8545895104697271), np.float64(0.8554018480775862), np.float64(0.8562036842332309), np.float64(0.8569952665974159), np.float64(0.8577768340063932), np.float64(0.8585486168960187), np.float64(0.8586052498461265), np.float64(0.8596666050062439), np.float64(0.8607119924391582), np.float64(0.861741859658895), np.float64(0.8627566351087526), np.float64(0.863756729257952), np.float64(0.8613529072929124), np.float64(0.8627561750046473), np.float64(0.86413444238322), np.float64(0.8654885574748281), np.float64(0.8668193243595708), np.float64(0.8681275062247296), np.float64(0.8623880856735865), np.float64(0.8642754178509535), np.float64(0.8661220115829993), np.float64(0.8679295792780994), np.float64(0.8696997229650514), np.float64(0.8714339438625822), np.float64(0.8610177678710333), np.float64(0.8636199141365811), np.float64(0.866151847472376), np.float64(0.868617341691821), np.float64(0.8710198593509051), np.float64(0.8733625861118313), np.float64(0.8560720209783925), np.float64(0.8597962342534697), np.float64(0.8633890095496286), np.float64(0.8668597880127191), np.float64(0.8702169739131413), np.float64(0.8734680857858979), np.float64(0.8509613725518982), np.float64(0.8563439188865996), np.float64(0.861474433591231), np.float64(0.8663772811585972), np.float64(0.8710732584192171), np.float64(0.8418664663315568), np.float64(0.850113809142715), np.float64(0.8578158332974766), np.float64(0.8650473603969173)]\n"
     ]
    }
   ],
   "source": [
    "Matterdata = read_excel('./DATA/test_phi.xlsx',1,dff[ik])\n",
    "print(dff[ik])\n",
    "KEY_SET = list(Matterdata.keys())\n",
    "TEMP = Matterdata[KEY_SET[0]][1:] # K\n",
    "PESS = Matterdata[KEY_SET[1]][1:] # Pa\n",
    "VOLE = list(np.array(Matterdata[KEY_SET[2]][1:])/(10**6)) # m3/mol\n",
    "TC = Matterdata[KEY_SET[10]][1:] # K\n",
    "PC = Matterdata[KEY_SET[11]][1:] # Pa\n",
    "OMEGA = Matterdata[KEY_SET[16]][1:] # 1\n",
    "M = Matterdata[KEY_SET[9]][1:] # g/mol\n",
    "PHI = Matterdata[KEY_SET[18]][1:]\n",
    "THETALIST = []\n",
    "for i in range(len(TEMP)):\n",
    "\tthetat = getTHETA(PESS[i],VOLE[i],TEMP[i],TC[i],PC[i],OMEGA[i])\n",
    "\tTHETALIST.append(thetat)\n",
    "TR = list(np.array(TEMP)/np.array(TC))\n",
    "PR = list(np.array(PESS)/np.array(PC))\n",
    "DATASET = {\n",
    "\t'Tr':TR,\n",
    "\t'pr':PR,\n",
    "\tKEY_SET[3]:Matterdata[KEY_SET[3]][1:],\n",
    "\tKEY_SET[4]:Matterdata[KEY_SET[4]][1:],\n",
    "\tKEY_SET[5]:Matterdata[KEY_SET[5]][1:],\n",
    "\tKEY_SET[6]:Matterdata[KEY_SET[6]][1:],\n",
    "\tKEY_SET[7]:Matterdata[KEY_SET[7]][1:],\n",
    "\tKEY_SET[8]:Matterdata[KEY_SET[8]][1:],\n",
    "\t'M(g/mol)':M,\n",
    "\t'Tc(K)':TC,\n",
    "\t'pc(Pa)':PC,\n",
    "\tKEY_SET[14]:Matterdata[KEY_SET[14]][1:],\n",
    "\tKEY_SET[15]:Matterdata[KEY_SET[15]][1:],\n",
    "\t'w':OMEGA,\n",
    "}\n",
    "print(THETALIST)"
   ]
  },
  {
   "cell_type": "code",
   "execution_count": 323,
   "metadata": {},
   "outputs": [
    {
     "name": "stdout",
     "output_type": "stream",
     "text": [
      "[np.float64(0.8821793770902338), np.float64(0.8821793716352979), np.float64(0.8821793661803616), np.float64(0.8821793607254256), np.float64(0.8821793552704895), np.float64(0.8821793498155532), np.float64(0.8768691109015292), np.float64(0.8768691067042311), np.float64(0.8768691025069333), np.float64(0.8768690983096354), np.float64(0.8768690941123374), np.float64(0.8768690899150391), np.float64(0.8531286230482149), np.float64(0.85312861794961), np.float64(0.8531286128510054), np.float64(0.8531286077524003), np.float64(0.8531286026537959), np.float64(0.853128597555191), np.float64(0.860895119019375), np.float64(0.8608951137615575), np.float64(0.8608951085037402), np.float64(0.8608951032459227), np.float64(0.8608950979881054), np.float64(0.8608950927302876), np.float64(1.1476089483705227), np.float64(1.1476089433326049), np.float64(1.1476089382946864), np.float64(1.147608933256769), np.float64(1.1476089282188502), np.float64(1.147608923180932), np.float64(2.03344000685093), np.float64(2.0334400024030477), np.float64(2.033439997955165), np.float64(2.033439993507282), np.float64(2.033439989059399), np.float64(2.0334399846115154), np.float64(3.7042093178276407), np.float64(3.7042093134689953), np.float64(3.704209309110354), np.float64(3.7042093047517106), np.float64(3.7042093003930714), np.float64(3.7042092960344273), np.float64(6.494238738783975), np.float64(6.4942387344253305), np.float64(6.49423873006669), np.float64(6.494238725708046), np.float64(6.494238721349406), np.float64(6.494238716990762), np.float64(10.836602753013372), np.float64(10.83660274858065), np.float64(10.836602744147928), np.float64(10.83660273971521), np.float64(10.836602735282495), np.float64(10.836602730849773), np.float64(17.237972850412135), np.float64(17.23797284597942), np.float64(17.237972841546693), np.float64(17.237972837113976), np.float64(17.23797283268126), np.float64(26.329287728473986), np.float64(26.329287724041272), np.float64(26.329287719608537), np.float64(26.329287715175816)]\n",
      "{'Tr': np.float64(0.8801553672316383), 'Pr': np.float64(0.9668508287292817), 'LIQUID PL': 1135120, 'LIQUID K': 0.0800294, 'LIQUID MU': 0.000115737, 'LIQUID SIGMA': 0.00482482, 'TOTAL RHO': 662.7366, 'LIQUID DHVL': 36483.46, 'M': 128.169, 'Tc': 708.0, 'Pc': 3620000.0, 'FREEZEPT': 286.65, 'TB': 501.15, 'omiga': 0.614415}\n"
     ]
    }
   ],
   "source": [
    "thetacc = []\n",
    "KEY_SET2 = list(DATASET.values())\n",
    "for i in range(len(THETALIST)):\n",
    "\tfeature = [c[i] for c in KEY_SET2]\n",
    "\tinput_feature = {features[j]:feature[j] for j in range(len(feature))}\n",
    "\ttheta_pre = predict_THETA(input_feature)\n",
    "\tthetacc.append(theta_pre)\n",
    "print(thetacc)\n",
    "print(input_feature)"
   ]
  },
  {
   "cell_type": "code",
   "execution_count": 324,
   "metadata": {},
   "outputs": [
    {
     "name": "stdout",
     "output_type": "stream",
     "text": [
      "['nan', 'nan', 'nan', 'nan', 'nan', 'nan', 'nan', 'nan', 'nan', 'nan', 'nan', 'nan', 'nan', 'nan', 'nan', 'nan', 'nan', 'nan', 'nan', 'nan', 'nan', 'nan', 'nan', 'nan', 'nan', 'nan', 'nan', 'nan', 'nan', 'nan', 'nan', 'nan', 'nan', 'nan', 'nan', 'nan', 'nan', 'nan', 'nan', 'nan', 'nan', 'nan', 'nan', 'nan', 'nan', 'nan', 'nan', 'nan', 'nan', 'nan', 'nan', 'nan', 'nan', 'nan', 'nan', 'nan', 'nan', 'nan', 'nan', 'nan', 'nan', 'nan', 'nan']\n",
      "[0.0008478022538858506, 0.0003959337451899224, 0.0002632219477091159, 0.00019989599443438072, 0.0001628920309369944, 0.00013867577807142345, 0.004845343490026614, 0.002259952588602624, 0.0015005373912296358, 0.0011380931263068558, 0.0009262400817473247, 0.0007875449919272376, 0.020068097017000172, 0.0093502853147675, 0.006201798933160972, 0.004698890748709857, 0.0038202265519248547, 0.003244816867460102, 0.0646757451454469, 0.030108362378051926, 0.019953028026700004, 0.015104873726819769, 0.012269960953676372, 0.010413055533425971, 0.1709869798343107, 0.07954433550728743, 0.052678561289249026, 0.03985175841834666, 0.032350506513372575, 0.027436310876070794, 0.38592477582144985, 0.17943899432225568, 0.11877164611750148, 0.08980506306921919, 0.0728638078270376, 0.061764190664712164, 0.7669017405564583, 0.35643990606339016, 0.23584109185065025, 0.17825806002357386, 0.14457926460389842, 0.12251254457612197, 1.374720817873218, 0.638789833201471, 0.4225666427958993, 0.31932691294732285, 0.2589458590801364, 0.21938434533984633, 2.2664072356650946, 1.053041612156922, 0.6965598970651161, 0.5263623634113316, 0.42682863035094326, 0.36162106606059335, 1.6216462331504569, 1.072816439653479, 0.8108232922236006, 0.6576348597511494, 0.5572989357419894, 1.5625159597023168, 1.1814346294571378, 0.9587001622888981, 0.8128770394647906]\n",
      "[0.0003119, 0.000145659, 9.68329e-05, 7.35338e-05, 5.99184e-05, 5.10074e-05, 0.00178282, 0.000831519, 0.000552083, 0.000418711, 0.000340747, 0.000289701, 0.00738698, 0.00344171, 0.0022827, 0.00172942, 0.00140592, 0.00119405, 0.0238285, 0.0110925, 0.00735071, 0.00556424, 0.0045195, 0.00383509, 0.063099, 0.029353, 0.0194378, 0.0147035, 0.0119345, 0.0101201, 0.1427536, 0.0663714, 0.043928, 0.0332108, 0.0269418, 0.0228335, 0.2844844, 0.1322153, 0.0874724, 0.0661056, 0.053606, 0.045414, 0.5113433, 0.2375911, 0.1571499, 0.1187341, 0.0962599, 0.0815297, 0.8443869, 0.3923063, 0.259463, 0.1960212, 0.1589056, 0.1345785, 0.6036867, 0.3993135, 0.3017128, 0.2446145, 0.207191, 0.5788081, 0.4375043, 0.3548452, 0.3006738]\n"
     ]
    }
   ],
   "source": [
    "# 计算逸度\n",
    "phi = []\n",
    "phc = []\n",
    "for k in range(len(THETALIST)):\n",
    "\t# Phi = calculatePHI_LIQUID_NONESRK(PESS[k],VOLE[k],TEMP[k],TC[k],PC[k],OMEGA[k],thetacc[k],SATlist)\n",
    "\tphi.append(\"nan\")\n",
    "\tPhk = calculatePHI_LIQUID_NONESRK(PESS[k],VOLE[k],TEMP[k],TC[k],PC[k],OMEGA[k],THETALIST[k],SATlist)\n",
    "\tphc.append(Phk)\n",
    "print(phi)\n",
    "print(phc)\n",
    "print(PHI)"
   ]
  },
  {
   "cell_type": "code",
   "execution_count": 325,
   "metadata": {},
   "outputs": [],
   "source": [
    "with open(f'./RES/ccp/test{ct[ik]}.csv','w+') as t:\n",
    "\tt.write(\"IDEAL,PREDICT,TR,PR,PHIDEAL,PHICAUORIT,MULTINUM\\n\")\n",
    "\tfor i in range(len(thetacc)):\n",
    "\t\tt.write(f\"{THETALIST[i]},{thetacc[i]},{TR[i]},{PR[i]},{PHI[i]},{phc[i]},{phc[i]/(PHI[i])}\\n\")"
   ]
  }
 ],
 "metadata": {
  "kernelspec": {
   "display_name": "Python 3",
   "language": "python",
   "name": "python3"
  },
  "language_info": {
   "codemirror_mode": {
    "name": "ipython",
    "version": 3
   },
   "file_extension": ".py",
   "mimetype": "text/x-python",
   "name": "python",
   "nbconvert_exporter": "python",
   "pygments_lexer": "ipython3",
   "version": "3.12.3"
  }
 },
 "nbformat": 4,
 "nbformat_minor": 2
}
