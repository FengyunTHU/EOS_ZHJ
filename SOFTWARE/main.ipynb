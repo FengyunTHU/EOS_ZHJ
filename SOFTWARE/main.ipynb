{
 "cells": [
  {
   "cell_type": "code",
   "execution_count": 1,
   "metadata": {},
   "outputs": [],
   "source": [
    "from calculate import calculatePHI_LIQUID_NONESRK\n",
    "from calculate import calculatePHI_VAPOR_SRK\n",
    "from read import read_excel,getTHETA\n",
    "from calcute_theta import predict_THETA\n",
    "import numpy as np\n",
    "import matplotlib.pyplot as plt\n",
    "from math import *"
   ]
  },
  {
   "cell_type": "code",
   "execution_count": 2,
   "metadata": {},
   "outputs": [],
   "source": [
    "features = [\n",
    "    'Tr', 'Pr', 'LIQUID PL', 'LIQUID K', 'LIQUID MU', 'LIQUID SIGMA',\n",
    "    'TOTAL RHO', 'LIQUID DHVL', 'M', 'Tc', 'Pc',\n",
    "    'FREEZEPT', 'TB', 'omiga'\n",
    "]"
   ]
  },
  {
   "cell_type": "code",
   "execution_count": 3,
   "metadata": {},
   "outputs": [
    {
     "name": "stdout",
     "output_type": "stream",
     "text": [
      "[np.float64(0.7718733997141937), np.float64(0.7723392164348405), np.float64(0.7728005905820732), np.float64(0.7732575976199663), np.float64(0.773710311091517), np.float64(0.7741588026845733), np.float64(0.7740535836200232), np.float64(0.7746472467665385), np.float64(0.7752344672484943), np.float64(0.775815371952685), np.float64(0.7763900839932422), np.float64(0.7769587228631092), np.float64(0.7753807094414149), np.float64(0.7761423433624118), np.float64(0.7768944613965344), np.float64(0.7776372836214601), np.float64(0.778371022379592), np.float64(0.7790958826455562), np.float64(0.7756325816173478), np.float64(0.7766192084682014), np.float64(0.7775914340311563), np.float64(0.7785496555995731), np.float64(0.7794942537139237), np.float64(0.7804255931167114), np.float64(0.774497659011782), np.float64(0.7757933278306671), np.float64(0.7770664816375185), np.float64(0.7783178761121973), np.float64(0.7795482279929644), np.float64(0.7807582177859027), np.float64(0.7715215548067377), np.float64(0.7732562165152813), np.float64(0.7749540835288875), np.float64(0.7766166973336746), np.float64(0.7782455000016613), np.float64(0.7798418428226928), np.float64(0.7659907675324678), np.float64(0.7683788529946471), np.float64(0.77070292185399), np.float64(0.7729664400590335), np.float64(0.775172584738195), np.float64(0.7773242764311941), np.float64(0.7601049039340411), np.float64(0.7634127836809845), np.float64(0.7666073152356399), np.float64(0.769696484450733), np.float64(0.7726874147969531), np.float64(0.7463998593336147), np.float64(0.7514167472539586), np.float64(0.7561899484008703), np.float64(0.760744193159804), np.float64(0.7651004119738369), np.float64(0.730948330919688), np.float64(0.7388573198049542), np.float64(0.7461985769037431), np.float64(0.7530573348796576), np.float64(0.7061000262887498), np.float64(0.720491776190376), np.float64(0.7331187849550787)]\n"
     ]
    }
   ],
   "source": [
    "pres = read_excel('./DATA/物性系数.xlsx',0,1)\n",
    "# we test 110-62-3\n",
    "TEST_LIST = pres['107-92-6']\n",
    "SATlist = TEST_LIST[9:18] # 计算饱和蒸气压经验公式系数\n",
    "\n",
    "Matterdata = read_excel('./DATA/test.xlsx',1,4)\n",
    "KEY_SET = list(Matterdata.keys())\n",
    "TEMP = Matterdata[KEY_SET[0]][1:] # K\n",
    "PESS = Matterdata[KEY_SET[1]][1:] # Pa\n",
    "VOLE = list(np.array(Matterdata[KEY_SET[2]][1:])/(10**6)) # mL/mol\n",
    "TC = Matterdata[KEY_SET[10]][1:] # K\n",
    "PC = Matterdata[KEY_SET[11]][1:] # Pa\n",
    "OMEGA = Matterdata[KEY_SET[16]][1:] # 1\n",
    "M = Matterdata[KEY_SET[9]][1:] # g/mol\n",
    "THETALIST = []\n",
    "for i in range(len(TEMP)):\n",
    "\tthetat = getTHETA(PESS[i],VOLE[i],TEMP[i],TC[i],PC[i],OMEGA[i])\n",
    "\tTHETALIST.append(thetat)\n",
    "TR = list(np.array(TEMP)/np.array(TC))\n",
    "PR = list(np.array(PESS)/np.array(PC))\n",
    "DATASET = {\n",
    "\t'Tr':TR,\n",
    "\t'pr':PR,\n",
    "\tKEY_SET[3]:Matterdata[KEY_SET[3]][1:],\n",
    "\tKEY_SET[4]:Matterdata[KEY_SET[4]][1:],\n",
    "\tKEY_SET[5]:Matterdata[KEY_SET[5]][1:],\n",
    "\tKEY_SET[6]:Matterdata[KEY_SET[6]][1:],\n",
    "\tKEY_SET[7]:Matterdata[KEY_SET[7]][1:],\n",
    "\tKEY_SET[8]:Matterdata[KEY_SET[8]][1:],\n",
    "\t'M(g/mol)':M,\n",
    "\t'Tc(K)':TC,\n",
    "\t'pc(Pa)':PC,\n",
    "\tKEY_SET[14]:Matterdata[KEY_SET[14]][1:],\n",
    "\tKEY_SET[15]:Matterdata[KEY_SET[15]][1:],\n",
    "\t'w':OMEGA,\n",
    "}\n",
    "print(THETALIST)"
   ]
  },
  {
   "cell_type": "code",
   "execution_count": 4,
   "metadata": {},
   "outputs": [
    {
     "name": "stdout",
     "output_type": "stream",
     "text": [
      "[np.float64(0.8391690825182496), np.float64(0.839169076791098), np.float64(0.8391690710639463), np.float64(0.8391690653367949), np.float64(0.8391690596096433), np.float64(0.8391690538824916), np.float64(0.8320637148416876), np.float64(0.8320637101502291), np.float64(0.8320637054587701), np.float64(0.8320637007673117), np.float64(0.8320636960758527), np.float64(0.832063691384394), np.float64(1.03259347430041), np.float64(1.032593469808473), np.float64(1.0325934653165365), np.float64(1.0325934608245997), np.float64(1.032593456332663), np.float64(1.0325934518407258), np.float64(1.7161001030388494), np.float64(1.7161000992725037), np.float64(1.7161000955061583), np.float64(1.7161000917398124), np.float64(1.7161000879734665), np.float64(1.7161000842071206), np.float64(3.036136516621555), np.float64(3.0361365126557094), np.float64(3.036136508689863), np.float64(3.0361365047240163), np.float64(3.0361365007581687), np.float64(3.0361364967923246), np.float64(5.266571158375448), np.float64(5.266571154489172), np.float64(5.266571150602896), np.float64(5.2665711467166165), np.float64(5.266571142830339), np.float64(5.2665711389440615), np.float64(8.813305031244049), np.float64(8.81330502729172), np.float64(8.813305023339396), np.float64(8.813305019387066), np.float64(8.813305015434743), np.float64(8.813305011482413), np.float64(14.166193117949076), np.float64(14.166193113996759), np.float64(14.166193110044425), np.float64(14.166193106092097), np.float64(14.166193102139781), np.float64(21.917816282045973), np.float64(21.91781627809364), np.float64(21.917816274141313), np.float64(21.917816270188993), np.float64(21.91781626623666), np.float64(32.80339594239776), np.float64(32.80339593844544), np.float64(32.803395934493096), np.float64(32.80339593054077), np.float64(47.75739440144857), np.float64(47.757394397496256), np.float64(47.75739439354395)]\n",
      "{'Tr': np.float64(0.9308916680201396), 'Pr': np.float64(0.8620689655172413), 'LIQUID PL': 2071810, 'LIQUID K': 0.1004108, 'LIQUID MU': 0.000136555, 'LIQUID SIGMA': 0.00252504, 'TOTAL RHO': 606.2188, 'LIQUID DHVL': 20707.56, 'M': 88.1051, 'Tc': 615.7, 'Pc': 4060000.0, 'FREEZEPT': 267.95, 'TB': 436.42, 'omiga': 0.675003}\n"
     ]
    }
   ],
   "source": [
    "thetacc = []\n",
    "KEY_SET2 = list(DATASET.values())\n",
    "for i in range(len(THETALIST)):\n",
    "\tfeature = [c[i] for c in KEY_SET2]\n",
    "\tinput_feature = {features[j]:feature[j] for j in range(len(feature))}\n",
    "\ttheta_pre = predict_THETA(input_feature)\n",
    "\tthetacc.append(theta_pre)\n",
    "print(thetacc)\n",
    "print(input_feature)"
   ]
  },
  {
   "cell_type": "code",
   "execution_count": 5,
   "metadata": {},
   "outputs": [
    {
     "name": "stdout",
     "output_type": "stream",
     "text": [
      "[0.021670172100212503, 0.010048707717372355, 0.006633299736141895, 0.005001858029651575, 0.004047126360862415, 0.0034211104887145447, 0.060412864019889025, 0.027993992568879664, 0.01846600478443584, 0.013914399399001201, 0.011250470974095948, 0.009503484931455468, 0.14664321115081672, 0.06791066499717938, 0.044770109777027375, 0.033715000390322936, 0.027244212075494424, 0.023000251604272912, 0.3169331259853501, 0.14670080754434459, 0.0966659443035312, 0.07276142565941955, 0.0587687918597613, 0.04959081908542233, 0.6207754638575174, 0.28723255677851167, 0.18919585757434396, 0.1423570086739165, 0.11493872213512397, 0.09695386292391683, 1.1178651498408698, 0.5170912381437169, 0.3405082872401722, 0.2561421809921843, 0.20675603401118198, 0.1743611364926697, 1.8728078543219795, 0.8661532095641838, 0.570275772696956, 0.42891721857229853, 0.3461710144657429, 0.2918951665464574, 1.363554003451617, 0.8977249255286855, 0.6751828293788805, 0.5449240831363856, 0.4594905796989924, 2.034655120058143, 1.3396736917023195, 1.0076983243499296, 0.8134151764144298, 0.6860120766727754, 1.908595701716639, 1.4360676755335076, 1.1596183155813355, 0.9783988209168152, 1.9646484952392966, 1.5874595536925407, 1.3404264892481237]\n"
     ]
    }
   ],
   "source": [
    "# 计算逸度\n",
    "phi = []\n",
    "for k in range(len(THETALIST)):\n",
    "\tPhi = calculatePHI_LIQUID_NONESRK(PR[k]*PC[k],VOLE[k],TR[k]*TC[k],TC[k],PC[k],OMEGA[k],THETALIST[k],SATlist)\n",
    "\tphi.append(Phi)\n",
    "print(phi)"
   ]
  }
 ],
 "metadata": {
  "kernelspec": {
   "display_name": "Python 3",
   "language": "python",
   "name": "python3"
  },
  "language_info": {
   "codemirror_mode": {
    "name": "ipython",
    "version": 3
   },
   "file_extension": ".py",
   "mimetype": "text/x-python",
   "name": "python",
   "nbconvert_exporter": "python",
   "pygments_lexer": "ipython3",
   "version": "3.12.3"
  }
 },
 "nbformat": 4,
 "nbformat_minor": 2
}
